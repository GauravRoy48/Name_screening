{
 "cells": [
  {
   "cell_type": "markdown",
   "metadata": {},
   "source": [
    "# Name Screening\n",
    "\n",
    "## Name Search"
   ]
  },
  {
   "cell_type": "markdown",
   "metadata": {},
   "source": [
    "## Table of Contents <a class=\"anchor\" id=\"toc\"></a>\n",
    "\n",
    "1. [Function Definitions - Data Loading](#func-defs)\n",
    "    1. [Screening Solutions](#first-func-def)\n",
    "2. [Loading dataset](#load-data)\n",
    "3. [Querying dataset](#query-data)"
   ]
  },
  {
   "cell_type": "markdown",
   "metadata": {},
   "source": [
    "## Libraries"
   ]
  },
  {
   "cell_type": "code",
   "execution_count": null,
   "metadata": {},
   "outputs": [],
   "source": [
    "from platform import python_version\n",
    "print(\"Python Version:\", python_version())\n",
    "\n",
    "import warnings\n",
    "#warnings.filterwarnings(action='once')\n",
    "warnings.filterwarnings('ignore')\n",
    "\n",
    "# pip install abydos\n",
    "\n",
    "import re\n",
    "import os\n",
    "import time\n",
    "import numpy as np\n",
    "import pandas as pd\n",
    "from datetime import datetime\n",
    "\n",
    "from abydos import phonetic, distance\n",
    "from Levenshtein import ratio as lev_ratio\n",
    "from Levenshtein import setratio as lev_setratio"
   ]
  },
  {
   "cell_type": "code",
   "execution_count": null,
   "metadata": {},
   "outputs": [],
   "source": []
  },
  {
   "cell_type": "markdown",
   "metadata": {},
   "source": [
    "# 1. Function Definitions <a class=\"anchor\" id=\"func-defs\"></a>\n",
    "\n",
    "Go to [Table of Contents](#toc)"
   ]
  },
  {
   "cell_type": "markdown",
   "metadata": {},
   "source": [
    "## 1.1. Function Definition - All name screening solutions <a class=\"anchor\" id=\"first-func-def\"></a>\n",
    "\n",
    "Go to [Table of Contents](#toc)\n",
    "\n",
    "The function provided **TWO** options. They are as follows:\n",
    "1. *(DEFAULT)* Using BOTH fuzzy logic on names AND Levenshtein distance on phonemes of the names for comparision ***(Proposed approach 1)***\n",
    "2. Using EITHER fuzzy logic on names OR Levenshtein distance on phonemes of the names for comparision ***(Proposed approach 2)***"
   ]
  },
  {
   "cell_type": "code",
   "execution_count": null,
   "metadata": {},
   "outputs": [],
   "source": [
    "SOL_TYPE = 1\n",
    "\n",
    "FUNC = [lev_setratio, lev_ratio]\n",
    "THRES = [0.56, 0.55]"
   ]
  },
  {
   "cell_type": "code",
   "execution_count": null,
   "metadata": {},
   "outputs": [],
   "source": [
    "def solutions(name, sol_type=SOL_TYPE, db=names, func=FUNC, thres=THRES):\n",
    "    \n",
    "    print()\n",
    "    sol_name = \"\"\n",
    "    if sol_type != 1 and sol_type != 2 and sol_type !=3:\n",
    "        print('Invalid Option! Choose from 1 to 3')\n",
    "        return None\n",
    "        \n",
    "    results = pd.DataFrame()\n",
    "    \n",
    "    start_time= time.time()\n",
    "    \n",
    "    pn = []\n",
    "    for t in name.split():\n",
    "        pn.append(phonetic.DoubleMetaphone().encode(t)[0])\n",
    "\n",
    "    \n",
    "    for row in db.iterrows():\n",
    "        \n",
    "        metric1 = func[0](row[1]['Name'].lower(), name.lower())\n",
    "        dist_score = []\n",
    "        dist_score = [max([(func[1](i,j)) for j in row[1]['Phonemes']]) for i in pn]\n",
    "        metric2 = np.mean(dist_score)\n",
    "\n",
    "        if sol_type == 1:\n",
    "            condition = (metric1 >= thres[0] and metric2 >= thres[1])\n",
    "        elif sol_type == 2:\n",
    "            condition = (metric1 >= thres[0] or metric2 >= thres[1])\n",
    "        elif sol_type == 3:\n",
    "            condition = (metric2 >= thres[1])\n",
    "\n",
    "        \n",
    "        if condition:\n",
    "            \n",
    "            df2 = {'Name': row[1]['Name'], \n",
    "                   'Source': row[1]['List'],\n",
    "                   'Timestamp': row[1]['Timestamp'], \n",
    "                   'Lev_Set_Ratio': metric1, \n",
    "                   'Lev_Ratio': metric2}\n",
    "\n",
    "            results = results.append(df2, ignore_index = True)\n",
    "\n",
    "    fin_time = np.round((time.time() - start_time), 2)\n",
    "    print(f\"--- Execution Time: {fin_time:,} seconds ---\")\n",
    "    \n",
    "    if not results.empty:\n",
    "        results.sort_values(['Lev_Ratio', 'Lev_Set_Ratio'], ascending=False, inplace=True)\n",
    "    \n",
    "    results.reset_index(drop=True, inplace=True)\n",
    "    \n",
    "    print(\"Number of same/similar names:\", results.shape[0])\n",
    "\n",
    "    columns = ['Name', 'Source', 'Timestamp']\n",
    "    \n",
    "    check = results[results['Name'].str.contains(name)]\n",
    "\n",
    "    if check.shape[0]>0:\n",
    "        print(\"\\nNAME FOUND!\")\n",
    "        display(check)\n",
    "        print(\"\\nAlso displaying other close matches!\")\n",
    "        display(results[columns])\n",
    "    else:\n",
    "        print(\"\\nEXACT NAME NOT FOUND!\")\n",
    "        print(\"Showing list of closest matches\")\n",
    "        display(results[columns])\n",
    "        return results[columns]\n",
    "\n"
   ]
  },
  {
   "cell_type": "code",
   "execution_count": null,
   "metadata": {},
   "outputs": [],
   "source": []
  },
  {
   "cell_type": "markdown",
   "metadata": {},
   "source": [
    "# 2. Load Data <a class=\"anchor\" id=\"load-data\"></a>\n",
    "\n",
    "Go to [Table of Contents](#toc)"
   ]
  },
  {
   "cell_type": "code",
   "execution_count": null,
   "metadata": {},
   "outputs": [],
   "source": [
    "names = pd.read_pickle('Final_Names_wo_Random.pkl')\n",
    "names"
   ]
  },
  {
   "cell_type": "code",
   "execution_count": null,
   "metadata": {},
   "outputs": [],
   "source": []
  },
  {
   "cell_type": "markdown",
   "metadata": {},
   "source": [
    "# 3. Query Data <a class=\"anchor\" id=\"query-data\"></a>\n",
    "\n",
    "Go to [Table of Contents](#toc)"
   ]
  },
  {
   "cell_type": "code",
   "execution_count": null,
   "metadata": {},
   "outputs": [],
   "source": [
    "# Faris Chiabhi\n",
    "# Dave Mazengo\n",
    "# Vladmir Terentev\n",
    "# Abd El Kader Sabra\n",
    "# Andy Gimmatove"
   ]
  },
  {
   "cell_type": "code",
   "execution_count": null,
   "metadata": {},
   "outputs": [],
   "source": [
    "name = input(\"Enter name to be searched: \")\n",
    "res = solutions(name)\n"
   ]
  },
  {
   "cell_type": "code",
   "execution_count": null,
   "metadata": {},
   "outputs": [],
   "source": []
  },
  {
   "cell_type": "code",
   "execution_count": null,
   "metadata": {},
   "outputs": [],
   "source": []
  },
  {
   "cell_type": "code",
   "execution_count": null,
   "metadata": {},
   "outputs": [],
   "source": []
  }
 ],
 "metadata": {
  "kernelspec": {
   "display_name": "Python 3",
   "language": "python",
   "name": "python3"
  },
  "language_info": {
   "codemirror_mode": {
    "name": "ipython",
    "version": 3
   },
   "file_extension": ".py",
   "mimetype": "text/x-python",
   "name": "python",
   "nbconvert_exporter": "python",
   "pygments_lexer": "ipython3",
   "version": "3.8.5"
  }
 },
 "nbformat": 4,
 "nbformat_minor": 4
}
